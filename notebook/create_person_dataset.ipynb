{
 "cells": [
  {
   "cell_type": "markdown",
   "id": "6da6e3a7-d4ed-466a-a4d5-677367a86d6e",
   "metadata": {},
   "source": [
    "[参考: smashew/NameDatabases](https://github.com/smashew/NameDatabases)"
   ]
  },
  {
   "cell_type": "code",
   "execution_count": 12,
   "id": "c23a9365-ebcd-4fd1-8c76-8e40620949e5",
   "metadata": {},
   "outputs": [],
   "source": [
    "import os\n",
    "import pandas as pd\n",
    "import numpy as np"
   ]
  },
  {
   "cell_type": "code",
   "execution_count": 2,
   "id": "b381869a-6408-425c-b78d-04ffbb14a53a",
   "metadata": {},
   "outputs": [],
   "source": [
    "path = \"../data/\"\n",
    "file = \"us.txt\""
   ]
  },
  {
   "cell_type": "code",
   "execution_count": 11,
   "id": "cc608549-c996-423b-b471-7e5c3b82af2b",
   "metadata": {},
   "outputs": [],
   "source": [
    "with open(os.path.join(path, file), \"r\") as f:\n",
    "    name = f.read()\n",
    "name = name.split(\"\\n\")"
   ]
  },
  {
   "cell_type": "code",
   "execution_count": 15,
   "id": "91d21049-d6cb-4bdb-9240-434aa8da1168",
   "metadata": {},
   "outputs": [],
   "source": [
    "age = np.random.randint(0, 101, len(name))\n",
    "height = np.random.randint(140, 200, len(name))"
   ]
  },
  {
   "cell_type": "code",
   "execution_count": 16,
   "id": "f88dc3c9-dba3-4281-8161-f0af31fcdcd4",
   "metadata": {},
   "outputs": [
    {
     "data": {
      "text/html": [
       "<div>\n",
       "<style scoped>\n",
       "    .dataframe tbody tr th:only-of-type {\n",
       "        vertical-align: middle;\n",
       "    }\n",
       "\n",
       "    .dataframe tbody tr th {\n",
       "        vertical-align: top;\n",
       "    }\n",
       "\n",
       "    .dataframe thead th {\n",
       "        text-align: right;\n",
       "    }\n",
       "</style>\n",
       "<table border=\"1\" class=\"dataframe\">\n",
       "  <thead>\n",
       "    <tr style=\"text-align: right;\">\n",
       "      <th></th>\n",
       "      <th>name</th>\n",
       "      <th>age</th>\n",
       "      <th>height</th>\n",
       "    </tr>\n",
       "  </thead>\n",
       "  <tbody>\n",
       "    <tr>\n",
       "      <th>0</th>\n",
       "      <td>Aaron</td>\n",
       "      <td>34</td>\n",
       "      <td>186</td>\n",
       "    </tr>\n",
       "    <tr>\n",
       "      <th>1</th>\n",
       "      <td>Abbey</td>\n",
       "      <td>75</td>\n",
       "      <td>158</td>\n",
       "    </tr>\n",
       "    <tr>\n",
       "      <th>2</th>\n",
       "      <td>Abbie</td>\n",
       "      <td>51</td>\n",
       "      <td>153</td>\n",
       "    </tr>\n",
       "    <tr>\n",
       "      <th>3</th>\n",
       "      <td>Abby</td>\n",
       "      <td>97</td>\n",
       "      <td>182</td>\n",
       "    </tr>\n",
       "    <tr>\n",
       "      <th>4</th>\n",
       "      <td>Abdul</td>\n",
       "      <td>14</td>\n",
       "      <td>168</td>\n",
       "    </tr>\n",
       "  </tbody>\n",
       "</table>\n",
       "</div>"
      ],
      "text/plain": [
       "    name  age  height\n",
       "0  Aaron   34     186\n",
       "1  Abbey   75     158\n",
       "2  Abbie   51     153\n",
       "3   Abby   97     182\n",
       "4  Abdul   14     168"
      ]
     },
     "execution_count": 16,
     "metadata": {},
     "output_type": "execute_result"
    }
   ],
   "source": [
    "person = pd.DataFrame({\"name\": name, \"age\": age, \"height\": height})\n",
    "person.head()"
   ]
  },
  {
   "cell_type": "code",
   "execution_count": 18,
   "id": "a66ddf44-cccb-400b-ac62-ed3eebf99098",
   "metadata": {},
   "outputs": [],
   "source": [
    "person.to_csv(os.path.join(path, \"person.csv\"), index=False)"
   ]
  }
 ],
 "metadata": {
  "kernelspec": {
   "display_name": "Python 3",
   "language": "python",
   "name": "python3"
  },
  "language_info": {
   "codemirror_mode": {
    "name": "ipython",
    "version": 3
   },
   "file_extension": ".py",
   "mimetype": "text/x-python",
   "name": "python",
   "nbconvert_exporter": "python",
   "pygments_lexer": "ipython3",
   "version": "3.9.0"
  }
 },
 "nbformat": 4,
 "nbformat_minor": 5
}
