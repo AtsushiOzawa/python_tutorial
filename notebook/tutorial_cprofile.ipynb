{
 "cells": [
  {
   "cell_type": "markdown",
   "metadata": {},
   "source": [
    "# [参考: Python 標準プロファイラ cProfile の簡単な使い方](https://www.qoosky.io/techs/7124adc14d)"
   ]
  },
  {
   "cell_type": "code",
   "execution_count": 36,
   "metadata": {},
   "outputs": [
    {
     "name": "stdout",
     "output_type": "stream",
     "text": [
      "         2 function calls in 1.000 seconds\n",
      "\n",
      "   Ordered by: standard name\n",
      "\n",
      "   ncalls  tottime  percall  cumtime  percall filename:lineno(function)\n",
      "        1    1.000    1.000    1.000    1.000 {built-in method time.sleep}\n",
      "        1    0.000    0.000    0.000    0.000 {method 'disable' of '_lsprof.Profiler' objects}\n",
      "\n",
      "\n"
     ]
    }
   ],
   "source": [
    "%run ../src/cprofile.py"
   ]
  },
  {
   "cell_type": "markdown",
   "metadata": {},
   "source": [
    "- 上記からわかること\n",
    "    - 関数が実行された回数は 2 回で 1.000 秒を要した\n",
    "    - 関数名の順に表示\n",
    "    - ncalls 各関数の実行回数\n",
    "    - tottime 各関数の実行に要した時間 (内部でサブ関数の実行に要した時間を除く)\n",
    "    - percall tottime / ncalls\n",
    "    - cumtime 各関数の実行に要した時間 (内部でサブ関数の実行に要した時間を含む)\n",
    "    - percall cumtime / ncalls"
   ]
  },
  {
   "cell_type": "code",
   "execution_count": 37,
   "metadata": {},
   "outputs": [],
   "source": [
    "%run ../src/cprofile_write.py"
   ]
  },
  {
   "cell_type": "code",
   "execution_count": 38,
   "metadata": {},
   "outputs": [
    {
     "name": "stdout",
     "output_type": "stream",
     "text": [
      "sample.profile\n"
     ]
    }
   ],
   "source": [
    "!ls ../data/"
   ]
  },
  {
   "cell_type": "code",
   "execution_count": 44,
   "metadata": {},
   "outputs": [],
   "source": [
    "# NOTE: 読み込み方法がわからない。"
   ]
  },
  {
   "cell_type": "markdown",
   "metadata": {},
   "source": [
    "# [参考: Python: profile/cProfile モジュールでボトルネックを調べる](https://blog.amedama.jp/entry/2016/08/30/214718)"
   ]
  },
  {
   "cell_type": "code",
   "execution_count": 46,
   "metadata": {},
   "outputs": [
    {
     "name": "stdout",
     "output_type": "stream",
     "text": [
      "ProductName:\tMac OS X\n",
      "ProductVersion:\t10.15.7\n",
      "BuildVersion:\t19H1217\n",
      "Python 3.7.6\n"
     ]
    }
   ],
   "source": [
    "!sw_vers\n",
    "!python --version"
   ]
  },
  {
   "cell_type": "code",
   "execution_count": 47,
   "metadata": {},
   "outputs": [],
   "source": [
    "import cProfile\n",
    "import time"
   ]
  },
  {
   "cell_type": "markdown",
   "metadata": {},
   "source": [
    "## 簡単な例題"
   ]
  },
  {
   "cell_type": "code",
   "execution_count": 48,
   "metadata": {},
   "outputs": [
    {
     "name": "stdout",
     "output_type": "stream",
     "text": [
      "         4 function calls in 1.002 seconds\n",
      "\n",
      "   Ordered by: standard name\n",
      "\n",
      "   ncalls  tottime  percall  cumtime  percall filename:lineno(function)\n",
      "        1    0.000    0.000    1.002    1.002 <string>:1(<module>)\n",
      "        1    0.000    0.000    1.002    1.002 {built-in method builtins.exec}\n",
      "        1    1.002    1.002    1.002    1.002 {built-in method time.sleep}\n",
      "        1    0.000    0.000    0.000    0.000 {method 'disable' of '_lsprof.Profiler' objects}\n",
      "\n",
      "\n"
     ]
    }
   ],
   "source": [
    "cProfile.run('time.sleep(1)')"
   ]
  },
  {
   "cell_type": "markdown",
   "metadata": {},
   "source": [
    "- ncalls\n",
    "  - 呼び出し回数\n",
    "- tottime\n",
    "  - その関数の実行にかかった時間の合計\n",
    "  - (別の関数呼び出しにかかった時間を除く)\n",
    "- percall\n",
    "  - かかった時間を呼び出し回数で割ったもの\n",
    "  - (つまり 1 回の呼び出しにかかった平均時間)\n",
    "- cumtime\n",
    "  - その関数の実行にかかった時間の合計\n",
    "  - (別の関数呼び出しにかかった時間を含む)\n",
    "- filename\n",
    "  - lineno(function): 関数のファイル名、行番号、関数名"
   ]
  },
  {
   "cell_type": "markdown",
   "metadata": {},
   "source": [
    "## 再帰的な処理を含む場合"
   ]
  },
  {
   "cell_type": "code",
   "execution_count": 100,
   "metadata": {},
   "outputs": [],
   "source": [
    "def fib(n):\n",
    "    if n == 0:\n",
    "        return 0\n",
    "    if n == 1:\n",
    "        return 1\n",
    "    return fib(n - 2) + fib(n - 1)"
   ]
  },
  {
   "cell_type": "code",
   "execution_count": 101,
   "metadata": {},
   "outputs": [
    {
     "name": "stdout",
     "output_type": "stream",
     "text": [
      "         180 function calls (4 primitive calls) in 0.000 seconds\n",
      "\n",
      "   Ordered by: standard name\n",
      "\n",
      "   ncalls  tottime  percall  cumtime  percall filename:lineno(function)\n",
      "    177/1    0.000    0.000    0.000    0.000 <ipython-input-100-606585d396a7>:1(fib)\n",
      "        1    0.000    0.000    0.000    0.000 <string>:1(<module>)\n",
      "        1    0.000    0.000    0.000    0.000 {built-in method builtins.exec}\n",
      "        1    0.000    0.000    0.000    0.000 {method 'disable' of '_lsprof.Profiler' objects}\n",
      "\n",
      "\n"
     ]
    }
   ],
   "source": [
    "cProfile.run(\"fib(10)\")"
   ]
  },
  {
   "cell_type": "markdown",
   "metadata": {},
   "source": [
    "- 177/1 といったように分数のような表示が得られる。\n",
    "- 元々は1回の呼び出しから関数が再帰的に176回呼びだされたことを意味している。"
   ]
  },
  {
   "cell_type": "markdown",
   "metadata": {},
   "source": [
    "## 実践的な例"
   ]
  },
  {
   "cell_type": "markdown",
   "metadata": {},
   "source": [
    "### 結果を詳細に見る"
   ]
  },
  {
   "cell_type": "code",
   "execution_count": 102,
   "metadata": {
    "tags": []
   },
   "outputs": [
    {
     "name": "stdout",
     "output_type": "stream",
     "text": [
      "         224 function calls (48 primitive calls) in 0.000 seconds\n",
      "\n",
      "   Ordered by: standard name\n",
      "\n",
      "   ncalls  tottime  percall  cumtime  percall filename:lineno(function)\n",
      "    177/1    0.000    0.000    0.000    0.000 <ipython-input-100-606585d396a7>:1(fib)\n",
      "        1    0.000    0.000    0.000    0.000 <ipython-input-102-c311bc68edc5>:11(<module>)\n",
      "        1    0.000    0.000    0.000    0.000 <ipython-input-102-c311bc68edc5>:8(<module>)\n",
      "        2    0.000    0.000    0.000    0.000 codeop.py:135(__call__)\n",
      "        4    0.000    0.000    0.000    0.000 compilerop.py:138(extra_flags)\n",
      "        2    0.000    0.000    0.000    0.000 contextlib.py:107(__enter__)\n",
      "        2    0.000    0.000    0.000    0.000 contextlib.py:116(__exit__)\n",
      "        2    0.000    0.000    0.000    0.000 contextlib.py:237(helper)\n",
      "        2    0.000    0.000    0.000    0.000 contextlib.py:81(__init__)\n",
      "        2    0.000    0.000    0.000    0.000 hooks.py:103(__call__)\n",
      "        2    0.000    0.000    0.000    0.000 hooks.py:168(pre_run_code_hook)\n",
      "        2    0.000    0.000    0.000    0.000 interactiveshell.py:117(<lambda>)\n",
      "        2    0.000    0.000    0.000    0.000 interactiveshell.py:1276(user_global_ns)\n",
      "        2    0.000    0.000    0.000    0.000 interactiveshell.py:3235(compare)\n",
      "        2    0.000    0.000    0.000    0.000 interactiveshell.py:3293(run_code)\n",
      "        2    0.000    0.000    0.000    0.000 ipstruct.py:125(__getattr__)\n",
      "        2    0.000    0.000    0.000    0.000 traitlets.py:526(get)\n",
      "        2    0.000    0.000    0.000    0.000 traitlets.py:545(__get__)\n",
      "        2    0.000    0.000    0.000    0.000 {built-in method builtins.compile}\n",
      "        2    0.000    0.000    0.000    0.000 {built-in method builtins.exec}\n",
      "        4    0.000    0.000    0.000    0.000 {built-in method builtins.getattr}\n",
      "        4    0.000    0.000    0.000    0.000 {built-in method builtins.next}\n",
      "        1    0.000    0.000    0.000    0.000 {method 'disable' of '_lsprof.Profiler' objects}\n",
      "\n",
      "\n"
     ]
    }
   ],
   "source": [
    "#  Profile クラスのインスタンスを用意する。\n",
    "pr = cProfile.Profile()\n",
    "\n",
    "# プロファイリングを開始するために enable() メソッドを呼びだそう。\n",
    "pr.enable()\n",
    "\n",
    "# その上で、プロファイリングしたいコードを実行する。\n",
    "fib(10)\n",
    "\n",
    "# プロファイリングを終了するために disable() メソッドを呼び出す。\n",
    "pr.disable()\n",
    "\n",
    "# プロファイリングが終わったら print_stats() メソッドで結果を出力する。\n",
    "pr.print_stats()"
   ]
  },
  {
   "cell_type": "code",
   "execution_count": 104,
   "metadata": {},
   "outputs": [],
   "source": [
    "import pstats"
   ]
  },
  {
   "cell_type": "code",
   "execution_count": 106,
   "metadata": {},
   "outputs": [],
   "source": [
    "stats = pstats.Stats(pr)"
   ]
  },
  {
   "cell_type": "code",
   "execution_count": 108,
   "metadata": {},
   "outputs": [
    {
     "name": "stdout",
     "output_type": "stream",
     "text": [
      "         224 function calls (48 primitive calls) in 0.000 seconds\n",
      "\n",
      "   Ordered by: call count\n",
      "\n",
      "   ncalls  tottime  percall  cumtime  percall filename:lineno(function)\n",
      "    177/1    0.000    0.000    0.000    0.000 <ipython-input-100-606585d396a7>:1(fib)\n",
      "        4    0.000    0.000    0.000    0.000 {built-in method builtins.getattr}\n",
      "        4    0.000    0.000    0.000    0.000 {built-in method builtins.next}\n",
      "        4    0.000    0.000    0.000    0.000 /Users/atsushi_ozawa/opt/anaconda3/lib/python3.7/site-packages/IPython/core/compilerop.py:138(extra_flags)\n",
      "        2    0.000    0.000    0.000    0.000 {built-in method builtins.compile}\n",
      "        2    0.000    0.000    0.000    0.000 {built-in method builtins.exec}\n",
      "        2    0.000    0.000    0.000    0.000 /Users/atsushi_ozawa/opt/anaconda3/lib/python3.7/contextlib.py:81(__init__)\n",
      "        2    0.000    0.000    0.000    0.000 /Users/atsushi_ozawa/opt/anaconda3/lib/python3.7/contextlib.py:107(__enter__)\n",
      "        2    0.000    0.000    0.000    0.000 /Users/atsushi_ozawa/opt/anaconda3/lib/python3.7/contextlib.py:116(__exit__)\n",
      "        2    0.000    0.000    0.000    0.000 /Users/atsushi_ozawa/opt/anaconda3/lib/python3.7/contextlib.py:237(helper)\n",
      "        2    0.000    0.000    0.000    0.000 /Users/atsushi_ozawa/opt/anaconda3/lib/python3.7/site-packages/traitlets/traitlets.py:526(get)\n",
      "        2    0.000    0.000    0.000    0.000 /Users/atsushi_ozawa/opt/anaconda3/lib/python3.7/site-packages/traitlets/traitlets.py:545(__get__)\n",
      "        2    0.000    0.000    0.000    0.000 /Users/atsushi_ozawa/opt/anaconda3/lib/python3.7/site-packages/IPython/utils/ipstruct.py:125(__getattr__)\n",
      "        2    0.000    0.000    0.000    0.000 /Users/atsushi_ozawa/opt/anaconda3/lib/python3.7/codeop.py:135(__call__)\n",
      "        2    0.000    0.000    0.000    0.000 /Users/atsushi_ozawa/opt/anaconda3/lib/python3.7/site-packages/IPython/core/interactiveshell.py:117(<lambda>)\n",
      "        2    0.000    0.000    0.000    0.000 /Users/atsushi_ozawa/opt/anaconda3/lib/python3.7/site-packages/IPython/core/interactiveshell.py:1276(user_global_ns)\n",
      "        2    0.000    0.000    0.000    0.000 /Users/atsushi_ozawa/opt/anaconda3/lib/python3.7/site-packages/IPython/core/interactiveshell.py:3235(compare)\n",
      "        2    0.000    0.000    0.000    0.000 /Users/atsushi_ozawa/opt/anaconda3/lib/python3.7/site-packages/IPython/core/interactiveshell.py:3293(run_code)\n",
      "        2    0.000    0.000    0.000    0.000 /Users/atsushi_ozawa/opt/anaconda3/lib/python3.7/site-packages/IPython/core/hooks.py:103(__call__)\n",
      "        2    0.000    0.000    0.000    0.000 /Users/atsushi_ozawa/opt/anaconda3/lib/python3.7/site-packages/IPython/core/hooks.py:168(pre_run_code_hook)\n",
      "        1    0.000    0.000    0.000    0.000 {method 'disable' of '_lsprof.Profiler' objects}\n",
      "        1    0.000    0.000    0.000    0.000 <ipython-input-102-c311bc68edc5>:8(<module>)\n",
      "        1    0.000    0.000    0.000    0.000 <ipython-input-102-c311bc68edc5>:11(<module>)\n",
      "\n",
      "\n"
     ]
    },
    {
     "data": {
      "text/plain": [
       "<pstats.Stats at 0x7fd9c1c10f50>"
      ]
     },
     "execution_count": 108,
     "metadata": {},
     "output_type": "execute_result"
    }
   ],
   "source": [
    "stats.sort_stats('ncalls')\n",
    "stats.print_stats()"
   ]
  },
  {
   "cell_type": "markdown",
   "metadata": {},
   "source": [
    "### 結果を保存する"
   ]
  },
  {
   "cell_type": "code",
   "execution_count": 109,
   "metadata": {},
   "outputs": [],
   "source": [
    "pr.dump_stats('../data/fib.profile')"
   ]
  },
  {
   "cell_type": "markdown",
   "metadata": {},
   "source": [
    "### 結果を読み込む"
   ]
  },
  {
   "cell_type": "code",
   "execution_count": 111,
   "metadata": {},
   "outputs": [
    {
     "name": "stdout",
     "output_type": "stream",
     "text": [
      "Fri Aug 20 12:58:30 2021    ../data/fib.profile\n",
      "\n",
      "         224 function calls (48 primitive calls) in 0.000 seconds\n",
      "\n",
      "   Random listing order was used\n",
      "\n",
      "   ncalls  tottime  percall  cumtime  percall filename:lineno(function)\n",
      "        2    0.000    0.000    0.000    0.000 {built-in method builtins.compile}\n",
      "        2    0.000    0.000    0.000    0.000 {built-in method builtins.exec}\n",
      "        4    0.000    0.000    0.000    0.000 {built-in method builtins.getattr}\n",
      "        4    0.000    0.000    0.000    0.000 {built-in method builtins.next}\n",
      "        1    0.000    0.000    0.000    0.000 {method 'disable' of '_lsprof.Profiler' objects}\n",
      "        2    0.000    0.000    0.000    0.000 /Users/atsushi_ozawa/opt/anaconda3/lib/python3.7/contextlib.py:81(__init__)\n",
      "        2    0.000    0.000    0.000    0.000 /Users/atsushi_ozawa/opt/anaconda3/lib/python3.7/contextlib.py:107(__enter__)\n",
      "        2    0.000    0.000    0.000    0.000 /Users/atsushi_ozawa/opt/anaconda3/lib/python3.7/contextlib.py:116(__exit__)\n",
      "        2    0.000    0.000    0.000    0.000 /Users/atsushi_ozawa/opt/anaconda3/lib/python3.7/contextlib.py:237(helper)\n",
      "        2    0.000    0.000    0.000    0.000 /Users/atsushi_ozawa/opt/anaconda3/lib/python3.7/site-packages/traitlets/traitlets.py:526(get)\n",
      "        2    0.000    0.000    0.000    0.000 /Users/atsushi_ozawa/opt/anaconda3/lib/python3.7/site-packages/traitlets/traitlets.py:545(__get__)\n",
      "        2    0.000    0.000    0.000    0.000 /Users/atsushi_ozawa/opt/anaconda3/lib/python3.7/site-packages/IPython/utils/ipstruct.py:125(__getattr__)\n",
      "        2    0.000    0.000    0.000    0.000 /Users/atsushi_ozawa/opt/anaconda3/lib/python3.7/codeop.py:135(__call__)\n",
      "        4    0.000    0.000    0.000    0.000 /Users/atsushi_ozawa/opt/anaconda3/lib/python3.7/site-packages/IPython/core/compilerop.py:138(extra_flags)\n",
      "        2    0.000    0.000    0.000    0.000 /Users/atsushi_ozawa/opt/anaconda3/lib/python3.7/site-packages/IPython/core/interactiveshell.py:117(<lambda>)\n",
      "        2    0.000    0.000    0.000    0.000 /Users/atsushi_ozawa/opt/anaconda3/lib/python3.7/site-packages/IPython/core/interactiveshell.py:1276(user_global_ns)\n",
      "        2    0.000    0.000    0.000    0.000 /Users/atsushi_ozawa/opt/anaconda3/lib/python3.7/site-packages/IPython/core/interactiveshell.py:3235(compare)\n",
      "        2    0.000    0.000    0.000    0.000 /Users/atsushi_ozawa/opt/anaconda3/lib/python3.7/site-packages/IPython/core/interactiveshell.py:3293(run_code)\n",
      "        2    0.000    0.000    0.000    0.000 /Users/atsushi_ozawa/opt/anaconda3/lib/python3.7/site-packages/IPython/core/hooks.py:103(__call__)\n",
      "        2    0.000    0.000    0.000    0.000 /Users/atsushi_ozawa/opt/anaconda3/lib/python3.7/site-packages/IPython/core/hooks.py:168(pre_run_code_hook)\n",
      "        1    0.000    0.000    0.000    0.000 <ipython-input-102-c311bc68edc5>:8(<module>)\n",
      "        1    0.000    0.000    0.000    0.000 <ipython-input-102-c311bc68edc5>:11(<module>)\n",
      "    177/1    0.000    0.000    0.000    0.000 <ipython-input-100-606585d396a7>:1(fib)\n",
      "\n",
      "\n"
     ]
    },
    {
     "data": {
      "text/plain": [
       "<pstats.Stats at 0x7fd9c4370590>"
      ]
     },
     "execution_count": 111,
     "metadata": {},
     "output_type": "execute_result"
    }
   ],
   "source": [
    "stats = pstats.Stats('../data/fib.profile')\n",
    "stats.print_stats()"
   ]
  }
 ],
 "metadata": {
  "kernelspec": {
   "display_name": "Python 3",
   "language": "python",
   "name": "python3"
  },
  "language_info": {
   "codemirror_mode": {
    "name": "ipython",
    "version": 3
   },
   "file_extension": ".py",
   "mimetype": "text/x-python",
   "name": "python",
   "nbconvert_exporter": "python",
   "pygments_lexer": "ipython3",
   "version": "3.7.6"
  }
 },
 "nbformat": 4,
 "nbformat_minor": 4
}
